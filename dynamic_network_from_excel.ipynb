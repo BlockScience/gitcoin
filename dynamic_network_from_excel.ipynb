{
 "cells": [
  {
   "source": [
    "# Gitcoin Dynamical Network generation\n",
    "\n",
    "03dec2020\n",
    "\n",
    "---\n",
    "\n"
   ],
   "cell_type": "markdown",
   "metadata": {}
  },
  {
   "source": [
    "## Dependences & parameters"
   ],
   "cell_type": "markdown",
   "metadata": {}
  },
  {
   "cell_type": "code",
   "execution_count": 1,
   "metadata": {},
   "outputs": [],
   "source": [
    "%load_ext autotime"
   ]
  },
  {
   "cell_type": "code",
   "execution_count": 2,
   "metadata": {},
   "outputs": [
    {
     "output_type": "stream",
     "name": "stdout",
     "text": [
      "time: 5.22 s\n"
     ]
    }
   ],
   "source": [
    "from src.model_excel import *\n",
    "import matplotlib.pyplot as plt\n",
    "import networkx as nx\n",
    "import plotly.express as px"
   ]
  },
  {
   "source": [
    "## Execute simulation"
   ],
   "cell_type": "markdown",
   "metadata": {}
  },
  {
   "cell_type": "code",
   "execution_count": 5,
   "metadata": {},
   "outputs": [
    {
     "output_type": "stream",
     "name": "stdout",
     "text": [
      "\n                  ___________    ____\n  ________ __ ___/ / ____/   |  / __ \\\n / ___/ __` / __  / /   / /| | / / / /\n/ /__/ /_/ / /_/ / /___/ ___ |/ /_/ /\n\\___/\\__,_/\\__,_/\\____/_/  |_/_____/\nby cadCAD\n\nExecution Mode: local_proc\nConfiguration Count: 1\nDimensions of the first simulation: (Timesteps, Params, Runs, Vars) = (25, 4, 1, 7)\nExecution Method: local_simulations\nSimIDs   : [0]\nSubsetIDs: [0]\nNs       : [0]\nExpIDs   : [0]\nExecution Mode: single_threaded\nTotal execution time: 0.10s\ntime: 144 ms\n"
     ]
    }
   ],
   "source": [
    "\n",
    "from cadCAD import configs\n",
    "\n",
    "result = run(configs)\n"
   ]
  },
  {
   "source": [
    "## Data analysis"
   ],
   "cell_type": "markdown",
   "metadata": {}
  },
  {
   "cell_type": "code",
   "execution_count": 6,
   "metadata": {},
   "outputs": [
    {
     "output_type": "stream",
     "name": "stdout",
     "text": [
      "time: 16.9 ms\n"
     ]
    }
   ],
   "source": [
    "df = result.loc[(0, 0, 1, slice(None))]\n"
   ]
  },
  {
   "cell_type": "code",
   "execution_count": 7,
   "metadata": {},
   "outputs": [
    {
     "output_type": "display_data",
     "data": {
      "application/vnd.plotly.v1+json": {
       "config": {
        "plotlyServerURL": "https://plot.ly"
       },
       "data": [
        {
         "hovertemplate": "variable=quadratic_total_match<br>timestep=%{x}<br>value=%{y}<extra></extra>",
         "legendgroup": "quadratic_total_match",
         "line": {
          "color": "#636efa",
          "dash": "solid"
         },
         "mode": "lines",
         "name": "quadratic_total_match",
         "orientation": "v",
         "showlegend": true,
         "type": "scatter",
         "x": [
          0,
          1,
          2,
          3,
          4,
          5,
          6,
          7,
          8,
          9,
          10,
          11,
          12,
          13,
          14,
          15,
          16,
          17,
          18,
          19,
          20,
          21,
          22,
          23,
          24,
          25
         ],
         "xaxis": "x",
         "y": [
          0,
          0,
          1.3,
          1.3,
          1.3,
          2.6,
          3.9000000000000004,
          3.9000000000000004,
          6.5,
          9.100000000000001,
          9.100000000000001,
          9.100000000000001,
          9.100000000000001,
          9.100000000000001,
          10.400000000000002,
          13.000000000000002,
          16.900000000000002,
          22.1,
          28.600000000000005,
          36.400000000000006,
          39.00000000000001,
          42.900000000000006,
          45.500000000000014,
          49.40000000000001,
          52.000000000000014,
          53.30000000000001
         ],
         "yaxis": "y"
        },
        {
         "hovertemplate": "variable=quadratic_total_funding<br>timestep=%{x}<br>value=%{y}<extra></extra>",
         "legendgroup": "quadratic_total_funding",
         "line": {
          "color": "#EF553B",
          "dash": "solid"
         },
         "mode": "lines",
         "name": "quadratic_total_funding",
         "orientation": "v",
         "showlegend": true,
         "type": "scatter",
         "x": [
          0,
          1,
          2,
          3,
          4,
          5,
          6,
          7,
          8,
          9,
          10,
          11,
          12,
          13,
          14,
          15,
          16,
          17,
          18,
          19,
          20,
          21,
          22,
          23,
          24,
          25
         ],
         "xaxis": "x",
         "y": [
          0,
          1.130170028617465,
          2.42754638597279,
          3.5550927719455805,
          4.682639157918371,
          5.9618447425015715,
          7.249680789258327,
          7.249680789258327,
          9.834356020545346,
          12.424261853446712,
          12.424261853446712,
          12.424261853446712,
          12.424261853446712,
          13.53234913792895,
          14.827007882223969,
          17.4180821401714,
          21.307587569592698,
          26.496857010128913,
          32.986543845756835,
          40.77689736348417,
          43.37413764862468,
          47.27032524143251,
          49.86797162143159,
          53.76468209750212,
          56.362630365726616,
          57.661642661223
         ],
         "yaxis": "y"
        }
       ],
       "layout": {
        "legend": {
         "title": {
          "text": "variable"
         },
         "tracegroupgap": 0
        },
        "margin": {
         "t": 60
        },
        "template": {
         "data": {
          "bar": [
           {
            "error_x": {
             "color": "#2a3f5f"
            },
            "error_y": {
             "color": "#2a3f5f"
            },
            "marker": {
             "line": {
              "color": "#E5ECF6",
              "width": 0.5
             }
            },
            "type": "bar"
           }
          ],
          "barpolar": [
           {
            "marker": {
             "line": {
              "color": "#E5ECF6",
              "width": 0.5
             }
            },
            "type": "barpolar"
           }
          ],
          "carpet": [
           {
            "aaxis": {
             "endlinecolor": "#2a3f5f",
             "gridcolor": "white",
             "linecolor": "white",
             "minorgridcolor": "white",
             "startlinecolor": "#2a3f5f"
            },
            "baxis": {
             "endlinecolor": "#2a3f5f",
             "gridcolor": "white",
             "linecolor": "white",
             "minorgridcolor": "white",
             "startlinecolor": "#2a3f5f"
            },
            "type": "carpet"
           }
          ],
          "choropleth": [
           {
            "colorbar": {
             "outlinewidth": 0,
             "ticks": ""
            },
            "type": "choropleth"
           }
          ],
          "contour": [
           {
            "colorbar": {
             "outlinewidth": 0,
             "ticks": ""
            },
            "colorscale": [
             [
              0,
              "#0d0887"
             ],
             [
              0.1111111111111111,
              "#46039f"
             ],
             [
              0.2222222222222222,
              "#7201a8"
             ],
             [
              0.3333333333333333,
              "#9c179e"
             ],
             [
              0.4444444444444444,
              "#bd3786"
             ],
             [
              0.5555555555555556,
              "#d8576b"
             ],
             [
              0.6666666666666666,
              "#ed7953"
             ],
             [
              0.7777777777777778,
              "#fb9f3a"
             ],
             [
              0.8888888888888888,
              "#fdca26"
             ],
             [
              1,
              "#f0f921"
             ]
            ],
            "type": "contour"
           }
          ],
          "contourcarpet": [
           {
            "colorbar": {
             "outlinewidth": 0,
             "ticks": ""
            },
            "type": "contourcarpet"
           }
          ],
          "heatmap": [
           {
            "colorbar": {
             "outlinewidth": 0,
             "ticks": ""
            },
            "colorscale": [
             [
              0,
              "#0d0887"
             ],
             [
              0.1111111111111111,
              "#46039f"
             ],
             [
              0.2222222222222222,
              "#7201a8"
             ],
             [
              0.3333333333333333,
              "#9c179e"
             ],
             [
              0.4444444444444444,
              "#bd3786"
             ],
             [
              0.5555555555555556,
              "#d8576b"
             ],
             [
              0.6666666666666666,
              "#ed7953"
             ],
             [
              0.7777777777777778,
              "#fb9f3a"
             ],
             [
              0.8888888888888888,
              "#fdca26"
             ],
             [
              1,
              "#f0f921"
             ]
            ],
            "type": "heatmap"
           }
          ],
          "heatmapgl": [
           {
            "colorbar": {
             "outlinewidth": 0,
             "ticks": ""
            },
            "colorscale": [
             [
              0,
              "#0d0887"
             ],
             [
              0.1111111111111111,
              "#46039f"
             ],
             [
              0.2222222222222222,
              "#7201a8"
             ],
             [
              0.3333333333333333,
              "#9c179e"
             ],
             [
              0.4444444444444444,
              "#bd3786"
             ],
             [
              0.5555555555555556,
              "#d8576b"
             ],
             [
              0.6666666666666666,
              "#ed7953"
             ],
             [
              0.7777777777777778,
              "#fb9f3a"
             ],
             [
              0.8888888888888888,
              "#fdca26"
             ],
             [
              1,
              "#f0f921"
             ]
            ],
            "type": "heatmapgl"
           }
          ],
          "histogram": [
           {
            "marker": {
             "colorbar": {
              "outlinewidth": 0,
              "ticks": ""
             }
            },
            "type": "histogram"
           }
          ],
          "histogram2d": [
           {
            "colorbar": {
             "outlinewidth": 0,
             "ticks": ""
            },
            "colorscale": [
             [
              0,
              "#0d0887"
             ],
             [
              0.1111111111111111,
              "#46039f"
             ],
             [
              0.2222222222222222,
              "#7201a8"
             ],
             [
              0.3333333333333333,
              "#9c179e"
             ],
             [
              0.4444444444444444,
              "#bd3786"
             ],
             [
              0.5555555555555556,
              "#d8576b"
             ],
             [
              0.6666666666666666,
              "#ed7953"
             ],
             [
              0.7777777777777778,
              "#fb9f3a"
             ],
             [
              0.8888888888888888,
              "#fdca26"
             ],
             [
              1,
              "#f0f921"
             ]
            ],
            "type": "histogram2d"
           }
          ],
          "histogram2dcontour": [
           {
            "colorbar": {
             "outlinewidth": 0,
             "ticks": ""
            },
            "colorscale": [
             [
              0,
              "#0d0887"
             ],
             [
              0.1111111111111111,
              "#46039f"
             ],
             [
              0.2222222222222222,
              "#7201a8"
             ],
             [
              0.3333333333333333,
              "#9c179e"
             ],
             [
              0.4444444444444444,
              "#bd3786"
             ],
             [
              0.5555555555555556,
              "#d8576b"
             ],
             [
              0.6666666666666666,
              "#ed7953"
             ],
             [
              0.7777777777777778,
              "#fb9f3a"
             ],
             [
              0.8888888888888888,
              "#fdca26"
             ],
             [
              1,
              "#f0f921"
             ]
            ],
            "type": "histogram2dcontour"
           }
          ],
          "mesh3d": [
           {
            "colorbar": {
             "outlinewidth": 0,
             "ticks": ""
            },
            "type": "mesh3d"
           }
          ],
          "parcoords": [
           {
            "line": {
             "colorbar": {
              "outlinewidth": 0,
              "ticks": ""
             }
            },
            "type": "parcoords"
           }
          ],
          "pie": [
           {
            "automargin": true,
            "type": "pie"
           }
          ],
          "scatter": [
           {
            "marker": {
             "colorbar": {
              "outlinewidth": 0,
              "ticks": ""
             }
            },
            "type": "scatter"
           }
          ],
          "scatter3d": [
           {
            "line": {
             "colorbar": {
              "outlinewidth": 0,
              "ticks": ""
             }
            },
            "marker": {
             "colorbar": {
              "outlinewidth": 0,
              "ticks": ""
             }
            },
            "type": "scatter3d"
           }
          ],
          "scattercarpet": [
           {
            "marker": {
             "colorbar": {
              "outlinewidth": 0,
              "ticks": ""
             }
            },
            "type": "scattercarpet"
           }
          ],
          "scattergeo": [
           {
            "marker": {
             "colorbar": {
              "outlinewidth": 0,
              "ticks": ""
             }
            },
            "type": "scattergeo"
           }
          ],
          "scattergl": [
           {
            "marker": {
             "colorbar": {
              "outlinewidth": 0,
              "ticks": ""
             }
            },
            "type": "scattergl"
           }
          ],
          "scattermapbox": [
           {
            "marker": {
             "colorbar": {
              "outlinewidth": 0,
              "ticks": ""
             }
            },
            "type": "scattermapbox"
           }
          ],
          "scatterpolar": [
           {
            "marker": {
             "colorbar": {
              "outlinewidth": 0,
              "ticks": ""
             }
            },
            "type": "scatterpolar"
           }
          ],
          "scatterpolargl": [
           {
            "marker": {
             "colorbar": {
              "outlinewidth": 0,
              "ticks": ""
             }
            },
            "type": "scatterpolargl"
           }
          ],
          "scatterternary": [
           {
            "marker": {
             "colorbar": {
              "outlinewidth": 0,
              "ticks": ""
             }
            },
            "type": "scatterternary"
           }
          ],
          "surface": [
           {
            "colorbar": {
             "outlinewidth": 0,
             "ticks": ""
            },
            "colorscale": [
             [
              0,
              "#0d0887"
             ],
             [
              0.1111111111111111,
              "#46039f"
             ],
             [
              0.2222222222222222,
              "#7201a8"
             ],
             [
              0.3333333333333333,
              "#9c179e"
             ],
             [
              0.4444444444444444,
              "#bd3786"
             ],
             [
              0.5555555555555556,
              "#d8576b"
             ],
             [
              0.6666666666666666,
              "#ed7953"
             ],
             [
              0.7777777777777778,
              "#fb9f3a"
             ],
             [
              0.8888888888888888,
              "#fdca26"
             ],
             [
              1,
              "#f0f921"
             ]
            ],
            "type": "surface"
           }
          ],
          "table": [
           {
            "cells": {
             "fill": {
              "color": "#EBF0F8"
             },
             "line": {
              "color": "white"
             }
            },
            "header": {
             "fill": {
              "color": "#C8D4E3"
             },
             "line": {
              "color": "white"
             }
            },
            "type": "table"
           }
          ]
         },
         "layout": {
          "annotationdefaults": {
           "arrowcolor": "#2a3f5f",
           "arrowhead": 0,
           "arrowwidth": 1
          },
          "coloraxis": {
           "colorbar": {
            "outlinewidth": 0,
            "ticks": ""
           }
          },
          "colorscale": {
           "diverging": [
            [
             0,
             "#8e0152"
            ],
            [
             0.1,
             "#c51b7d"
            ],
            [
             0.2,
             "#de77ae"
            ],
            [
             0.3,
             "#f1b6da"
            ],
            [
             0.4,
             "#fde0ef"
            ],
            [
             0.5,
             "#f7f7f7"
            ],
            [
             0.6,
             "#e6f5d0"
            ],
            [
             0.7,
             "#b8e186"
            ],
            [
             0.8,
             "#7fbc41"
            ],
            [
             0.9,
             "#4d9221"
            ],
            [
             1,
             "#276419"
            ]
           ],
           "sequential": [
            [
             0,
             "#0d0887"
            ],
            [
             0.1111111111111111,
             "#46039f"
            ],
            [
             0.2222222222222222,
             "#7201a8"
            ],
            [
             0.3333333333333333,
             "#9c179e"
            ],
            [
             0.4444444444444444,
             "#bd3786"
            ],
            [
             0.5555555555555556,
             "#d8576b"
            ],
            [
             0.6666666666666666,
             "#ed7953"
            ],
            [
             0.7777777777777778,
             "#fb9f3a"
            ],
            [
             0.8888888888888888,
             "#fdca26"
            ],
            [
             1,
             "#f0f921"
            ]
           ],
           "sequentialminus": [
            [
             0,
             "#0d0887"
            ],
            [
             0.1111111111111111,
             "#46039f"
            ],
            [
             0.2222222222222222,
             "#7201a8"
            ],
            [
             0.3333333333333333,
             "#9c179e"
            ],
            [
             0.4444444444444444,
             "#bd3786"
            ],
            [
             0.5555555555555556,
             "#d8576b"
            ],
            [
             0.6666666666666666,
             "#ed7953"
            ],
            [
             0.7777777777777778,
             "#fb9f3a"
            ],
            [
             0.8888888888888888,
             "#fdca26"
            ],
            [
             1,
             "#f0f921"
            ]
           ]
          },
          "colorway": [
           "#636efa",
           "#EF553B",
           "#00cc96",
           "#ab63fa",
           "#FFA15A",
           "#19d3f3",
           "#FF6692",
           "#B6E880",
           "#FF97FF",
           "#FECB52"
          ],
          "font": {
           "color": "#2a3f5f"
          },
          "geo": {
           "bgcolor": "white",
           "lakecolor": "white",
           "landcolor": "#E5ECF6",
           "showlakes": true,
           "showland": true,
           "subunitcolor": "white"
          },
          "hoverlabel": {
           "align": "left"
          },
          "hovermode": "closest",
          "mapbox": {
           "style": "light"
          },
          "paper_bgcolor": "white",
          "plot_bgcolor": "#E5ECF6",
          "polar": {
           "angularaxis": {
            "gridcolor": "white",
            "linecolor": "white",
            "ticks": ""
           },
           "bgcolor": "#E5ECF6",
           "radialaxis": {
            "gridcolor": "white",
            "linecolor": "white",
            "ticks": ""
           }
          },
          "scene": {
           "xaxis": {
            "backgroundcolor": "#E5ECF6",
            "gridcolor": "white",
            "gridwidth": 2,
            "linecolor": "white",
            "showbackground": true,
            "ticks": "",
            "zerolinecolor": "white"
           },
           "yaxis": {
            "backgroundcolor": "#E5ECF6",
            "gridcolor": "white",
            "gridwidth": 2,
            "linecolor": "white",
            "showbackground": true,
            "ticks": "",
            "zerolinecolor": "white"
           },
           "zaxis": {
            "backgroundcolor": "#E5ECF6",
            "gridcolor": "white",
            "gridwidth": 2,
            "linecolor": "white",
            "showbackground": true,
            "ticks": "",
            "zerolinecolor": "white"
           }
          },
          "shapedefaults": {
           "line": {
            "color": "#2a3f5f"
           }
          },
          "ternary": {
           "aaxis": {
            "gridcolor": "white",
            "linecolor": "white",
            "ticks": ""
           },
           "baxis": {
            "gridcolor": "white",
            "linecolor": "white",
            "ticks": ""
           },
           "bgcolor": "#E5ECF6",
           "caxis": {
            "gridcolor": "white",
            "linecolor": "white",
            "ticks": ""
           }
          },
          "title": {
           "x": 0.05
          },
          "xaxis": {
           "automargin": true,
           "gridcolor": "white",
           "linecolor": "white",
           "ticks": "",
           "title": {
            "standoff": 15
           },
           "zerolinecolor": "white",
           "zerolinewidth": 2
          },
          "yaxis": {
           "automargin": true,
           "gridcolor": "white",
           "linecolor": "white",
           "ticks": "",
           "title": {
            "standoff": 15
           },
           "zerolinecolor": "white",
           "zerolinewidth": 2
          }
         }
        },
        "xaxis": {
         "anchor": "y",
         "domain": [
          0,
          1
         ],
         "title": {
          "text": "timestep"
         }
        },
        "yaxis": {
         "anchor": "x",
         "domain": [
          0,
          1
         ],
         "title": {
          "text": "value"
         }
        }
       }
      }
     },
     "metadata": {}
    },
    {
     "output_type": "stream",
     "name": "stdout",
     "text": [
      "time: 1.12 s\n"
     ]
    }
   ],
   "source": [
    "fig = px.line(df.reset_index(),\n",
    "              x='timestep',\n",
    "              y=['quadratic_total_match', 'quadratic_total_funding'])\n",
    "\n",
    "fig.show()"
   ]
  },
  {
   "cell_type": "code",
   "execution_count": 8,
   "metadata": {},
   "outputs": [
    {
     "output_type": "display_data",
     "data": {
      "application/vnd.plotly.v1+json": {
       "config": {
        "plotlyServerURL": "https://plot.ly"
       },
       "data": [
        {
         "hovertemplate": "timestep=%{x}<br>funding_per_match=%{y}<extra></extra>",
         "legendgroup": "",
         "line": {
          "color": "#636efa",
          "dash": "solid"
         },
         "mode": "lines",
         "name": "",
         "orientation": "v",
         "showlegend": false,
         "type": "scatter",
         "x": [
          0,
          1,
          2,
          3,
          4,
          5,
          6,
          7,
          8,
          9,
          10,
          11,
          12,
          13,
          14,
          15,
          16,
          17,
          18,
          19,
          20,
          21,
          22,
          23,
          24,
          25
         ],
         "xaxis": "x",
         "y": [
          null,
          null,
          1.8673433738252232,
          2.7346867476504464,
          3.6020301214756696,
          2.2930172086544505,
          1.8588925100662375,
          1.8588925100662375,
          1.5129778493146686,
          1.3653035003787592,
          1.3653035003787592,
          1.3653035003787592,
          1.3653035003787592,
          1.4870713338383459,
          1.4256738348292275,
          1.3398524723208767,
          1.2608039982007513,
          1.198952805888186,
          1.1533756589425466,
          1.1202444330627517,
          1.1121573756057608,
          1.101872383250175,
          1.0959993762951996,
          1.088353888613403,
          1.0838967378024347,
          1.0818319448634706
         ],
         "yaxis": "y"
        }
       ],
       "layout": {
        "legend": {
         "tracegroupgap": 0
        },
        "margin": {
         "t": 60
        },
        "template": {
         "data": {
          "bar": [
           {
            "error_x": {
             "color": "#2a3f5f"
            },
            "error_y": {
             "color": "#2a3f5f"
            },
            "marker": {
             "line": {
              "color": "#E5ECF6",
              "width": 0.5
             }
            },
            "type": "bar"
           }
          ],
          "barpolar": [
           {
            "marker": {
             "line": {
              "color": "#E5ECF6",
              "width": 0.5
             }
            },
            "type": "barpolar"
           }
          ],
          "carpet": [
           {
            "aaxis": {
             "endlinecolor": "#2a3f5f",
             "gridcolor": "white",
             "linecolor": "white",
             "minorgridcolor": "white",
             "startlinecolor": "#2a3f5f"
            },
            "baxis": {
             "endlinecolor": "#2a3f5f",
             "gridcolor": "white",
             "linecolor": "white",
             "minorgridcolor": "white",
             "startlinecolor": "#2a3f5f"
            },
            "type": "carpet"
           }
          ],
          "choropleth": [
           {
            "colorbar": {
             "outlinewidth": 0,
             "ticks": ""
            },
            "type": "choropleth"
           }
          ],
          "contour": [
           {
            "colorbar": {
             "outlinewidth": 0,
             "ticks": ""
            },
            "colorscale": [
             [
              0,
              "#0d0887"
             ],
             [
              0.1111111111111111,
              "#46039f"
             ],
             [
              0.2222222222222222,
              "#7201a8"
             ],
             [
              0.3333333333333333,
              "#9c179e"
             ],
             [
              0.4444444444444444,
              "#bd3786"
             ],
             [
              0.5555555555555556,
              "#d8576b"
             ],
             [
              0.6666666666666666,
              "#ed7953"
             ],
             [
              0.7777777777777778,
              "#fb9f3a"
             ],
             [
              0.8888888888888888,
              "#fdca26"
             ],
             [
              1,
              "#f0f921"
             ]
            ],
            "type": "contour"
           }
          ],
          "contourcarpet": [
           {
            "colorbar": {
             "outlinewidth": 0,
             "ticks": ""
            },
            "type": "contourcarpet"
           }
          ],
          "heatmap": [
           {
            "colorbar": {
             "outlinewidth": 0,
             "ticks": ""
            },
            "colorscale": [
             [
              0,
              "#0d0887"
             ],
             [
              0.1111111111111111,
              "#46039f"
             ],
             [
              0.2222222222222222,
              "#7201a8"
             ],
             [
              0.3333333333333333,
              "#9c179e"
             ],
             [
              0.4444444444444444,
              "#bd3786"
             ],
             [
              0.5555555555555556,
              "#d8576b"
             ],
             [
              0.6666666666666666,
              "#ed7953"
             ],
             [
              0.7777777777777778,
              "#fb9f3a"
             ],
             [
              0.8888888888888888,
              "#fdca26"
             ],
             [
              1,
              "#f0f921"
             ]
            ],
            "type": "heatmap"
           }
          ],
          "heatmapgl": [
           {
            "colorbar": {
             "outlinewidth": 0,
             "ticks": ""
            },
            "colorscale": [
             [
              0,
              "#0d0887"
             ],
             [
              0.1111111111111111,
              "#46039f"
             ],
             [
              0.2222222222222222,
              "#7201a8"
             ],
             [
              0.3333333333333333,
              "#9c179e"
             ],
             [
              0.4444444444444444,
              "#bd3786"
             ],
             [
              0.5555555555555556,
              "#d8576b"
             ],
             [
              0.6666666666666666,
              "#ed7953"
             ],
             [
              0.7777777777777778,
              "#fb9f3a"
             ],
             [
              0.8888888888888888,
              "#fdca26"
             ],
             [
              1,
              "#f0f921"
             ]
            ],
            "type": "heatmapgl"
           }
          ],
          "histogram": [
           {
            "marker": {
             "colorbar": {
              "outlinewidth": 0,
              "ticks": ""
             }
            },
            "type": "histogram"
           }
          ],
          "histogram2d": [
           {
            "colorbar": {
             "outlinewidth": 0,
             "ticks": ""
            },
            "colorscale": [
             [
              0,
              "#0d0887"
             ],
             [
              0.1111111111111111,
              "#46039f"
             ],
             [
              0.2222222222222222,
              "#7201a8"
             ],
             [
              0.3333333333333333,
              "#9c179e"
             ],
             [
              0.4444444444444444,
              "#bd3786"
             ],
             [
              0.5555555555555556,
              "#d8576b"
             ],
             [
              0.6666666666666666,
              "#ed7953"
             ],
             [
              0.7777777777777778,
              "#fb9f3a"
             ],
             [
              0.8888888888888888,
              "#fdca26"
             ],
             [
              1,
              "#f0f921"
             ]
            ],
            "type": "histogram2d"
           }
          ],
          "histogram2dcontour": [
           {
            "colorbar": {
             "outlinewidth": 0,
             "ticks": ""
            },
            "colorscale": [
             [
              0,
              "#0d0887"
             ],
             [
              0.1111111111111111,
              "#46039f"
             ],
             [
              0.2222222222222222,
              "#7201a8"
             ],
             [
              0.3333333333333333,
              "#9c179e"
             ],
             [
              0.4444444444444444,
              "#bd3786"
             ],
             [
              0.5555555555555556,
              "#d8576b"
             ],
             [
              0.6666666666666666,
              "#ed7953"
             ],
             [
              0.7777777777777778,
              "#fb9f3a"
             ],
             [
              0.8888888888888888,
              "#fdca26"
             ],
             [
              1,
              "#f0f921"
             ]
            ],
            "type": "histogram2dcontour"
           }
          ],
          "mesh3d": [
           {
            "colorbar": {
             "outlinewidth": 0,
             "ticks": ""
            },
            "type": "mesh3d"
           }
          ],
          "parcoords": [
           {
            "line": {
             "colorbar": {
              "outlinewidth": 0,
              "ticks": ""
             }
            },
            "type": "parcoords"
           }
          ],
          "pie": [
           {
            "automargin": true,
            "type": "pie"
           }
          ],
          "scatter": [
           {
            "marker": {
             "colorbar": {
              "outlinewidth": 0,
              "ticks": ""
             }
            },
            "type": "scatter"
           }
          ],
          "scatter3d": [
           {
            "line": {
             "colorbar": {
              "outlinewidth": 0,
              "ticks": ""
             }
            },
            "marker": {
             "colorbar": {
              "outlinewidth": 0,
              "ticks": ""
             }
            },
            "type": "scatter3d"
           }
          ],
          "scattercarpet": [
           {
            "marker": {
             "colorbar": {
              "outlinewidth": 0,
              "ticks": ""
             }
            },
            "type": "scattercarpet"
           }
          ],
          "scattergeo": [
           {
            "marker": {
             "colorbar": {
              "outlinewidth": 0,
              "ticks": ""
             }
            },
            "type": "scattergeo"
           }
          ],
          "scattergl": [
           {
            "marker": {
             "colorbar": {
              "outlinewidth": 0,
              "ticks": ""
             }
            },
            "type": "scattergl"
           }
          ],
          "scattermapbox": [
           {
            "marker": {
             "colorbar": {
              "outlinewidth": 0,
              "ticks": ""
             }
            },
            "type": "scattermapbox"
           }
          ],
          "scatterpolar": [
           {
            "marker": {
             "colorbar": {
              "outlinewidth": 0,
              "ticks": ""
             }
            },
            "type": "scatterpolar"
           }
          ],
          "scatterpolargl": [
           {
            "marker": {
             "colorbar": {
              "outlinewidth": 0,
              "ticks": ""
             }
            },
            "type": "scatterpolargl"
           }
          ],
          "scatterternary": [
           {
            "marker": {
             "colorbar": {
              "outlinewidth": 0,
              "ticks": ""
             }
            },
            "type": "scatterternary"
           }
          ],
          "surface": [
           {
            "colorbar": {
             "outlinewidth": 0,
             "ticks": ""
            },
            "colorscale": [
             [
              0,
              "#0d0887"
             ],
             [
              0.1111111111111111,
              "#46039f"
             ],
             [
              0.2222222222222222,
              "#7201a8"
             ],
             [
              0.3333333333333333,
              "#9c179e"
             ],
             [
              0.4444444444444444,
              "#bd3786"
             ],
             [
              0.5555555555555556,
              "#d8576b"
             ],
             [
              0.6666666666666666,
              "#ed7953"
             ],
             [
              0.7777777777777778,
              "#fb9f3a"
             ],
             [
              0.8888888888888888,
              "#fdca26"
             ],
             [
              1,
              "#f0f921"
             ]
            ],
            "type": "surface"
           }
          ],
          "table": [
           {
            "cells": {
             "fill": {
              "color": "#EBF0F8"
             },
             "line": {
              "color": "white"
             }
            },
            "header": {
             "fill": {
              "color": "#C8D4E3"
             },
             "line": {
              "color": "white"
             }
            },
            "type": "table"
           }
          ]
         },
         "layout": {
          "annotationdefaults": {
           "arrowcolor": "#2a3f5f",
           "arrowhead": 0,
           "arrowwidth": 1
          },
          "coloraxis": {
           "colorbar": {
            "outlinewidth": 0,
            "ticks": ""
           }
          },
          "colorscale": {
           "diverging": [
            [
             0,
             "#8e0152"
            ],
            [
             0.1,
             "#c51b7d"
            ],
            [
             0.2,
             "#de77ae"
            ],
            [
             0.3,
             "#f1b6da"
            ],
            [
             0.4,
             "#fde0ef"
            ],
            [
             0.5,
             "#f7f7f7"
            ],
            [
             0.6,
             "#e6f5d0"
            ],
            [
             0.7,
             "#b8e186"
            ],
            [
             0.8,
             "#7fbc41"
            ],
            [
             0.9,
             "#4d9221"
            ],
            [
             1,
             "#276419"
            ]
           ],
           "sequential": [
            [
             0,
             "#0d0887"
            ],
            [
             0.1111111111111111,
             "#46039f"
            ],
            [
             0.2222222222222222,
             "#7201a8"
            ],
            [
             0.3333333333333333,
             "#9c179e"
            ],
            [
             0.4444444444444444,
             "#bd3786"
            ],
            [
             0.5555555555555556,
             "#d8576b"
            ],
            [
             0.6666666666666666,
             "#ed7953"
            ],
            [
             0.7777777777777778,
             "#fb9f3a"
            ],
            [
             0.8888888888888888,
             "#fdca26"
            ],
            [
             1,
             "#f0f921"
            ]
           ],
           "sequentialminus": [
            [
             0,
             "#0d0887"
            ],
            [
             0.1111111111111111,
             "#46039f"
            ],
            [
             0.2222222222222222,
             "#7201a8"
            ],
            [
             0.3333333333333333,
             "#9c179e"
            ],
            [
             0.4444444444444444,
             "#bd3786"
            ],
            [
             0.5555555555555556,
             "#d8576b"
            ],
            [
             0.6666666666666666,
             "#ed7953"
            ],
            [
             0.7777777777777778,
             "#fb9f3a"
            ],
            [
             0.8888888888888888,
             "#fdca26"
            ],
            [
             1,
             "#f0f921"
            ]
           ]
          },
          "colorway": [
           "#636efa",
           "#EF553B",
           "#00cc96",
           "#ab63fa",
           "#FFA15A",
           "#19d3f3",
           "#FF6692",
           "#B6E880",
           "#FF97FF",
           "#FECB52"
          ],
          "font": {
           "color": "#2a3f5f"
          },
          "geo": {
           "bgcolor": "white",
           "lakecolor": "white",
           "landcolor": "#E5ECF6",
           "showlakes": true,
           "showland": true,
           "subunitcolor": "white"
          },
          "hoverlabel": {
           "align": "left"
          },
          "hovermode": "closest",
          "mapbox": {
           "style": "light"
          },
          "paper_bgcolor": "white",
          "plot_bgcolor": "#E5ECF6",
          "polar": {
           "angularaxis": {
            "gridcolor": "white",
            "linecolor": "white",
            "ticks": ""
           },
           "bgcolor": "#E5ECF6",
           "radialaxis": {
            "gridcolor": "white",
            "linecolor": "white",
            "ticks": ""
           }
          },
          "scene": {
           "xaxis": {
            "backgroundcolor": "#E5ECF6",
            "gridcolor": "white",
            "gridwidth": 2,
            "linecolor": "white",
            "showbackground": true,
            "ticks": "",
            "zerolinecolor": "white"
           },
           "yaxis": {
            "backgroundcolor": "#E5ECF6",
            "gridcolor": "white",
            "gridwidth": 2,
            "linecolor": "white",
            "showbackground": true,
            "ticks": "",
            "zerolinecolor": "white"
           },
           "zaxis": {
            "backgroundcolor": "#E5ECF6",
            "gridcolor": "white",
            "gridwidth": 2,
            "linecolor": "white",
            "showbackground": true,
            "ticks": "",
            "zerolinecolor": "white"
           }
          },
          "shapedefaults": {
           "line": {
            "color": "#2a3f5f"
           }
          },
          "ternary": {
           "aaxis": {
            "gridcolor": "white",
            "linecolor": "white",
            "ticks": ""
           },
           "baxis": {
            "gridcolor": "white",
            "linecolor": "white",
            "ticks": ""
           },
           "bgcolor": "#E5ECF6",
           "caxis": {
            "gridcolor": "white",
            "linecolor": "white",
            "ticks": ""
           }
          },
          "title": {
           "x": 0.05
          },
          "xaxis": {
           "automargin": true,
           "gridcolor": "white",
           "linecolor": "white",
           "ticks": "",
           "title": {
            "standoff": 15
           },
           "zerolinecolor": "white",
           "zerolinewidth": 2
          },
          "yaxis": {
           "automargin": true,
           "gridcolor": "white",
           "linecolor": "white",
           "ticks": "",
           "title": {
            "standoff": 15
           },
           "zerolinecolor": "white",
           "zerolinewidth": 2
          }
         }
        },
        "xaxis": {
         "anchor": "y",
         "domain": [
          0,
          1
         ],
         "title": {
          "text": "timestep"
         }
        },
        "yaxis": {
         "anchor": "x",
         "domain": [
          0,
          1
         ],
         "title": {
          "text": "funding_per_match"
         },
         "type": "log"
        }
       }
      }
     },
     "metadata": {}
    },
    {
     "output_type": "stream",
     "name": "stdout",
     "text": [
      "time: 220 ms\n"
     ]
    }
   ],
   "source": [
    "y = df.quadratic_total_funding / df.quadratic_total_match\n",
    "y.name = 'funding_per_match'\n",
    "px.line(y.reset_index(),\n",
    "        x='timestep',\n",
    "        y='funding_per_match',\n",
    "        log_y=True)"
   ]
  },
  {
   "cell_type": "code",
   "execution_count": 11,
   "metadata": {},
   "outputs": [
    {
     "output_type": "display_data",
     "data": {
      "text/plain": "<Figure size 864x864 with 1 Axes>",
      "image/svg+xml": "<?xml version=\"1.0\" encoding=\"utf-8\" standalone=\"no\"?>\n<!DOCTYPE svg PUBLIC \"-//W3C//DTD SVG 1.1//EN\"\n  \"http://www.w3.org/Graphics/SVG/1.1/DTD/svg11.dtd\">\n<!-- Created with matplotlib (https://matplotlib.org/) -->\n<svg height=\"878.4pt\" version=\"1.1\" viewBox=\"0 0 878.4 878.4\" width=\"878.4pt\" xmlns=\"http://www.w3.org/2000/svg\" xmlns:xlink=\"http://www.w3.org/1999/xlink\">\n <metadata>\n  <rdf:RDF xmlns:cc=\"http://creativecommons.org/ns#\" xmlns:dc=\"http://purl.org/dc/elements/1.1/\" xmlns:rdf=\"http://www.w3.org/1999/02/22-rdf-syntax-ns#\">\n   <cc:Work>\n    <dc:type rdf:resource=\"http://purl.org/dc/dcmitype/StillImage\"/>\n    <dc:date>2020-12-03T14:59:53.678413</dc:date>\n    <dc:format>image/svg+xml</dc:format>\n    <dc:creator>\n     <cc:Agent>\n      <dc:title>Matplotlib v3.3.3, https://matplotlib.org/</dc:title>\n     </cc:Agent>\n    </dc:creator>\n   </cc:Work>\n  </rdf:RDF>\n </metadata>\n <defs>\n  <style type=\"text/css\">*{stroke-linecap:butt;stroke-linejoin:round;}</style>\n </defs>\n <g id=\"figure_1\">\n  <g id=\"patch_1\">\n   <path d=\"M 0 878.4 \nL 878.4 878.4 \nL 878.4 0 \nL 0 0 \nz\n\" style=\"fill:#ffffff;\"/>\n  </g>\n  <g id=\"axes_1\">\n   <g id=\"LineCollection_1\">\n    <path clip-path=\"url(#pb88db97bd4)\" d=\"M 46.472727 268.011189 \nL 831.927273 288.151049 \n\" style=\"fill:none;stroke:#8e0152;stroke-opacity:0.4;\"/>\n    <path clip-path=\"url(#pb88db97bd4)\" d=\"M 831.927273 288.151049 \nL 831.927273 650.668531 \n\" style=\"fill:none;stroke:#9acd61;stroke-opacity:0.4;\"/>\n    <path clip-path=\"url(#pb88db97bd4)\" d=\"M 831.927273 288.151049 \nL 831.927273 469.40979 \n\" style=\"fill:none;stroke:#e897c4;stroke-opacity:0.4;\"/>\n    <path clip-path=\"url(#pb88db97bd4)\" d=\"M 831.927273 288.151049 \nL 831.927273 227.731469 \n\" style=\"fill:none;stroke:#9acd61;stroke-opacity:0.4;\"/>\n    <path clip-path=\"url(#pb88db97bd4)\" d=\"M 831.927273 650.668531 \nL 831.927273 771.507692 \n\" style=\"fill:none;stroke:#e897c4;stroke-opacity:0.4;\"/>\n    <path clip-path=\"url(#pb88db97bd4)\" d=\"M 831.927273 650.668531 \nL 831.927273 408.99021 \n\" style=\"fill:none;stroke:#9acd61;stroke-opacity:0.4;\"/>\n    <path clip-path=\"url(#pb88db97bd4)\" d=\"M 46.472727 643.955245 \nL 831.927273 771.507692 \n\" style=\"fill:none;stroke:#276419;stroke-opacity:0.4;\"/>\n    <path clip-path=\"url(#pb88db97bd4)\" d=\"M 831.927273 771.507692 \nL 831.927273 167.311888 \n\" style=\"fill:none;stroke:#276419;stroke-opacity:0.4;\"/>\n    <path clip-path=\"url(#pb88db97bd4)\" d=\"M 831.927273 771.507692 \nL 831.927273 590.248951 \n\" style=\"fill:none;stroke:#8e0152;stroke-opacity:0.4;\"/>\n    <path clip-path=\"url(#pb88db97bd4)\" d=\"M 831.927273 771.507692 \nL 831.927273 529.829371 \n\" style=\"fill:none;stroke:#276419;stroke-opacity:0.4;\"/>\n    <path clip-path=\"url(#pb88db97bd4)\" d=\"M 831.927273 529.829371 \nL 831.927273 408.99021 \n\" style=\"fill:none;stroke:#9acd61;stroke-opacity:0.4;\"/>\n    <path clip-path=\"url(#pb88db97bd4)\" d=\"M 831.927273 408.99021 \nL 831.927273 227.731469 \n\" style=\"fill:none;stroke:#9acd61;stroke-opacity:0.4;\"/>\n    <path clip-path=\"url(#pb88db97bd4)\" d=\"M 831.927273 408.99021 \nL 831.927273 167.311888 \n\" style=\"fill:none;stroke:#8e0152;stroke-opacity:0.4;\"/>\n    <path clip-path=\"url(#pb88db97bd4)\" d=\"M 831.927273 408.99021 \nL 831.927273 348.570629 \n\" style=\"fill:none;stroke:#9acd61;stroke-opacity:0.4;\"/>\n    <path clip-path=\"url(#pb88db97bd4)\" d=\"M 831.927273 227.731469 \nL 831.927273 831.927273 \n\" style=\"fill:none;stroke:#276419;stroke-opacity:0.4;\"/>\n    <path clip-path=\"url(#pb88db97bd4)\" d=\"M 831.927273 831.927273 \nL 831.927273 46.472727 \n\" style=\"fill:none;stroke:#276419;stroke-opacity:0.4;\"/>\n    <path clip-path=\"url(#pb88db97bd4)\" d=\"M 831.927273 831.927273 \nL 831.927273 106.892308 \n\" style=\"fill:none;stroke:#9acd61;stroke-opacity:0.4;\"/>\n    <path clip-path=\"url(#pb88db97bd4)\" d=\"M 831.927273 831.927273 \nL 831.927273 711.088112 \n\" style=\"fill:none;stroke:#e897c4;stroke-opacity:0.4;\"/>\n    <path clip-path=\"url(#pb88db97bd4)\" d=\"M 831.927273 831.927273 \nL 831.927273 348.570629 \n\" style=\"fill:none;stroke:#276419;stroke-opacity:0.4;\"/>\n    <path clip-path=\"url(#pb88db97bd4)\" d=\"M 831.927273 831.927273 \nL 831.927273 590.248951 \n\" style=\"fill:none;stroke:#9acd61;stroke-opacity:0.4;\"/>\n    <path clip-path=\"url(#pb88db97bd4)\" d=\"M 831.927273 831.927273 \nL 831.927273 469.40979 \n\" style=\"fill:none;stroke:#8e0152;stroke-opacity:0.4;\"/>\n   </g>\n   <g id=\"PathCollection_1\">\n    <path clip-path=\"url(#pb88db97bd4)\" d=\"M 46.472727 269.712671 \nC 46.923966 269.712671 47.356783 269.533393 47.675857 269.214319 \nC 47.994931 268.895245 48.17421 268.462427 48.17421 268.011189 \nC 48.17421 267.55995 47.994931 267.127133 47.675857 266.808059 \nC 47.356783 266.488985 46.923966 266.309706 46.472727 266.309706 \nC 46.021489 266.309706 45.588671 266.488985 45.269597 266.808059 \nC 44.950524 267.127133 44.771245 267.55995 44.771245 268.011189 \nC 44.771245 268.462427 44.950524 268.895245 45.269597 269.214319 \nC 45.588671 269.533393 46.021489 269.712671 46.472727 269.712671 \nz\n\" style=\"fill:#fbe6f1;fill-opacity:0.4;stroke:#fbe6f1;stroke-opacity:0.4;\"/>\n    <path clip-path=\"url(#pb88db97bd4)\" d=\"M 831.927273 290.98633 \nC 832.679198 290.98633 833.400428 290.687587 833.932119 290.155896 \nC 834.463811 289.624204 834.762554 288.902974 834.762554 288.151049 \nC 834.762554 287.399124 834.463811 286.677894 833.932119 286.146202 \nC 833.400428 285.614511 832.679198 285.315768 831.927273 285.315768 \nC 831.175347 285.315768 830.454118 285.614511 829.922426 286.146202 \nC 829.390734 286.677894 829.091991 287.399124 829.091991 288.151049 \nC 829.091991 288.902974 829.390734 289.624204 829.922426 290.155896 \nC 830.454118 290.687587 831.175347 290.98633 831.927273 290.98633 \nz\n\" style=\"fill:#ebf6db;fill-opacity:0.4;stroke:#ebf6db;stroke-opacity:0.4;\"/>\n    <path clip-path=\"url(#pb88db97bd4)\" d=\"M 831.927273 652.62235 \nC 832.445431 652.62235 832.942438 652.416483 833.308831 652.05009 \nC 833.675225 651.683696 833.881091 651.18669 833.881091 650.668531 \nC 833.881091 650.150373 833.675225 649.653367 833.308831 649.286973 \nC 832.942438 648.92058 832.445431 648.714713 831.927273 648.714713 \nC 831.409114 648.714713 830.912108 648.92058 830.545714 649.286973 \nC 830.179321 649.653367 829.973454 650.150373 829.973454 650.668531 \nC 829.973454 651.18669 830.179321 651.683696 830.545714 652.05009 \nC 830.912108 652.416483 831.409114 652.62235 831.927273 652.62235 \nz\n\" style=\"fill:#d2ecb0;fill-opacity:0.4;stroke:#d2ecb0;stroke-opacity:0.4;\"/>\n    <path clip-path=\"url(#pb88db97bd4)\" d=\"M 46.472727 645.201928 \nC 46.803351 645.201928 47.120479 645.070569 47.354265 644.836783 \nC 47.588052 644.602996 47.71941 644.285869 47.71941 643.955245 \nC 47.71941 643.624621 47.588052 643.307493 47.354265 643.073707 \nC 47.120479 642.83992 46.803351 642.708562 46.472727 642.708562 \nC 46.142103 642.708562 45.824976 642.83992 45.591189 643.073707 \nC 45.357403 643.307493 45.226044 643.624621 45.226044 643.955245 \nC 45.226044 644.285869 45.357403 644.602996 45.591189 644.836783 \nC 45.824976 645.070569 46.142103 645.201928 46.472727 645.201928 \nz\n\" style=\"fill:#62a32e;fill-opacity:0.4;stroke:#62a32e;stroke-opacity:0.4;\"/>\n    <path clip-path=\"url(#pb88db97bd4)\" d=\"M 831.927273 773.508417 \nC 832.457871 773.508417 832.966809 773.297608 833.341999 772.922418 \nC 833.717188 772.547228 833.927997 772.038291 833.927997 771.507692 \nC 833.927997 770.977094 833.717188 770.468156 833.341999 770.092966 \nC 832.966809 769.717777 832.457871 769.506968 831.927273 769.506968 \nC 831.396674 769.506968 830.887737 769.717777 830.512547 770.092966 \nC 830.137357 770.468156 829.926548 770.977094 829.926548 771.507692 \nC 829.926548 772.038291 830.137357 772.547228 830.512547 772.922418 \nC 830.887737 773.297608 831.396674 773.508417 831.927273 773.508417 \nz\n\" style=\"fill:#ddf1c1;fill-opacity:0.4;stroke:#ddf1c1;stroke-opacity:0.4;\"/>\n    <path clip-path=\"url(#pb88db97bd4)\" d=\"M 831.927273 531.998222 \nC 832.502459 531.998222 833.054164 531.769698 833.460882 531.36298 \nC 833.867601 530.956262 834.096124 530.404557 834.096124 529.829371 \nC 834.096124 529.254184 833.867601 528.702479 833.460882 528.295761 \nC 833.054164 527.889043 832.502459 527.660519 831.927273 527.660519 \nC 831.352087 527.660519 830.800381 527.889043 830.393663 528.295761 \nC 829.986945 528.702479 829.758421 529.254184 829.758421 529.829371 \nC 829.758421 530.404557 829.986945 530.956262 830.393663 531.36298 \nC 830.800381 531.769698 831.352087 531.998222 831.927273 531.998222 \nz\n\" style=\"fill:#ddf1c1;fill-opacity:0.4;stroke:#ddf1c1;stroke-opacity:0.4;\"/>\n    <path clip-path=\"url(#pb88db97bd4)\" d=\"M 831.927273 411.173532 \nC 832.506297 411.173532 833.061683 410.943483 833.471115 410.534052 \nC 833.880546 410.12462 834.110595 409.569234 834.110595 408.99021 \nC 834.110595 408.411186 833.880546 407.855799 833.471115 407.446368 \nC 833.061683 407.036936 832.506297 406.806887 831.927273 406.806887 \nC 831.348249 406.806887 830.792862 407.036936 830.383431 407.446368 \nC 829.973999 407.855799 829.74395 408.411186 829.74395 408.99021 \nC 829.74395 409.569234 829.973999 410.12462 830.383431 410.534052 \nC 830.792862 410.943483 831.348249 411.173532 831.927273 411.173532 \nz\n\" style=\"fill:#f9f1f5;fill-opacity:0.4;stroke:#f9f1f5;stroke-opacity:0.4;\"/>\n    <path clip-path=\"url(#pb88db97bd4)\" d=\"M 831.927273 167.855422 \nC 832.07142 167.855422 832.209682 167.798152 832.31161 167.696225 \nC 832.413537 167.594298 832.470807 167.456035 832.470807 167.311888 \nC 832.470807 167.167741 832.413537 167.029479 832.31161 166.927551 \nC 832.209682 166.825624 832.07142 166.768354 831.927273 166.768354 \nC 831.783126 166.768354 831.644863 166.825624 831.542936 166.927551 \nC 831.441009 167.029479 831.383738 167.167741 831.383738 167.311888 \nC 831.383738 167.456035 831.441009 167.594298 831.542936 167.696225 \nC 831.644863 167.798152 831.783126 167.855422 831.927273 167.855422 \nz\n\" style=\"fill:#fbe6f1;fill-opacity:0.4;stroke:#fbe6f1;stroke-opacity:0.4;\"/>\n    <path clip-path=\"url(#pb88db97bd4)\" d=\"M 831.927273 229.610962 \nC 832.42572 229.610962 832.90382 229.412927 833.256275 229.060471 \nC 833.608731 228.708015 833.806766 228.229916 833.806766 227.731469 \nC 833.806766 227.233021 833.608731 226.754922 833.256275 226.402466 \nC 832.90382 226.050011 832.42572 225.851975 831.927273 225.851975 \nC 831.428825 225.851975 830.950726 226.050011 830.59827 226.402466 \nC 830.245815 226.754922 830.047779 227.233021 830.047779 227.731469 \nC 830.047779 228.229916 830.245815 228.708015 830.59827 229.060471 \nC 830.950726 229.412927 831.428825 229.610962 831.927273 229.610962 \nz\n\" style=\"fill:#79b73d;fill-opacity:0.4;stroke:#79b73d;stroke-opacity:0.4;\"/>\n    <path clip-path=\"url(#pb88db97bd4)\" d=\"M 831.927273 832.184003 \nC 831.995358 832.184003 832.060665 832.156952 832.108808 832.108808 \nC 832.156952 832.060665 832.184003 831.995358 832.184003 831.927273 \nC 832.184003 831.859187 832.156952 831.793881 832.108808 831.745737 \nC 832.060665 831.697593 831.995358 831.670543 831.927273 831.670543 \nC 831.859187 831.670543 831.793881 831.697593 831.745737 831.745737 \nC 831.697593 831.793881 831.670543 831.859187 831.670543 831.927273 \nC 831.670543 831.995358 831.697593 832.060665 831.745737 832.108808 \nC 831.793881 832.156952 831.859187 832.184003 831.927273 832.184003 \nz\n\" style=\"fill:#d8efb9;fill-opacity:0.4;stroke:#d8efb9;stroke-opacity:0.4;\"/>\n    <path clip-path=\"url(#pb88db97bd4)\" d=\"M 831.927273 46.590409 \nC 831.958482 46.590409 831.988418 46.578009 832.010486 46.555941 \nC 832.032555 46.533872 832.044954 46.503937 832.044954 46.472727 \nC 832.044954 46.441518 832.032555 46.411582 832.010486 46.389514 \nC 831.988418 46.367445 831.958482 46.355046 831.927273 46.355046 \nC 831.896063 46.355046 831.866128 46.367445 831.844059 46.389514 \nC 831.821991 46.411582 831.809591 46.441518 831.809591 46.472727 \nC 831.809591 46.503937 831.821991 46.533872 831.844059 46.555941 \nC 831.866128 46.578009 831.896063 46.590409 831.927273 46.590409 \nz\n\" style=\"fill:#276419;fill-opacity:0.4;stroke:#276419;stroke-opacity:0.4;\"/>\n    <path clip-path=\"url(#pb88db97bd4)\" d=\"M 831.927273 106.953656 \nC 831.943542 106.953656 831.959148 106.947192 831.970653 106.935688 \nC 831.982157 106.924183 831.988621 106.908577 831.988621 106.892308 \nC 831.988621 106.876038 831.982157 106.860432 831.970653 106.848928 \nC 831.959148 106.837423 831.943542 106.830959 831.927273 106.830959 \nC 831.911003 106.830959 831.895397 106.837423 831.883893 106.848928 \nC 831.872388 106.860432 831.865924 106.876038 831.865924 106.892308 \nC 831.865924 106.908577 831.872388 106.924183 831.883893 106.935688 \nC 831.895397 106.947192 831.911003 106.953656 831.927273 106.953656 \nz\n\" style=\"fill:#b0dc7d;fill-opacity:0.4;stroke:#b0dc7d;stroke-opacity:0.4;\"/>\n    <path clip-path=\"url(#pb88db97bd4)\" d=\"M 831.927273 711.129421 \nC 831.938228 711.129421 831.948736 711.125068 831.956483 711.117322 \nC 831.964229 711.109575 831.968582 711.099067 831.968582 711.088112 \nC 831.968582 711.077157 831.964229 711.066649 831.956483 711.058902 \nC 831.948736 711.051156 831.938228 711.046803 831.927273 711.046803 \nC 831.916317 711.046803 831.905809 711.051156 831.898063 711.058902 \nC 831.890316 711.066649 831.885964 711.077157 831.885964 711.088112 \nC 831.885964 711.099067 831.890316 711.109575 831.898063 711.117322 \nC 831.905809 711.125068 831.916317 711.129421 831.927273 711.129421 \nz\n\" style=\"fill:#cf4191;fill-opacity:0.4;stroke:#cf4191;stroke-opacity:0.4;\"/>\n    <path clip-path=\"url(#pb88db97bd4)\" d=\"M 831.927273 348.675168 \nC 831.954997 348.675168 831.981589 348.664153 832.001192 348.644549 \nC 832.020796 348.624945 832.031811 348.598353 832.031811 348.570629 \nC 832.031811 348.542906 832.020796 348.516313 832.001192 348.49671 \nC 831.981589 348.477106 831.954997 348.466091 831.927273 348.466091 \nC 831.899549 348.466091 831.872957 348.477106 831.853353 348.49671 \nC 831.833749 348.516313 831.822735 348.542906 831.822735 348.570629 \nC 831.822735 348.598353 831.833749 348.624945 831.853353 348.644549 \nC 831.872957 348.664153 831.899549 348.675168 831.927273 348.675168 \nz\n\" style=\"fill:#62a32e;fill-opacity:0.4;stroke:#62a32e;stroke-opacity:0.4;\"/>\n    <path clip-path=\"url(#pb88db97bd4)\" d=\"M 831.927273 590.412172 \nC 831.97056 590.412172 832.012079 590.394974 832.042688 590.364366 \nC 832.073296 590.333758 832.090494 590.292238 832.090494 590.248951 \nC 832.090494 590.205664 832.073296 590.164145 832.042688 590.133536 \nC 832.012079 590.102928 831.97056 590.08573 831.927273 590.08573 \nC 831.883986 590.08573 831.842466 590.102928 831.811858 590.133536 \nC 831.781249 590.164145 831.764051 590.205664 831.764051 590.248951 \nC 831.764051 590.292238 831.781249 590.333758 831.811858 590.364366 \nC 831.842466 590.394974 831.883986 590.412172 831.927273 590.412172 \nz\n\" style=\"fill:#eeadd4;fill-opacity:0.4;stroke:#eeadd4;stroke-opacity:0.4;\"/>\n    <path clip-path=\"url(#pb88db97bd4)\" d=\"M 831.927273 469.548088 \nC 831.96395 469.548088 831.99913 469.533516 832.025064 469.507582 \nC 832.050999 469.481647 832.065571 469.446467 832.065571 469.40979 \nC 832.065571 469.373113 832.050999 469.337933 832.025064 469.311999 \nC 831.99913 469.286064 831.96395 469.271492 831.927273 469.271492 \nC 831.890596 469.271492 831.855416 469.286064 831.829481 469.311999 \nC 831.803547 469.337933 831.788975 469.373113 831.788975 469.40979 \nC 831.788975 469.446467 831.803547 469.481647 831.829481 469.507582 \nC 831.855416 469.533516 831.890596 469.548088 831.927273 469.548088 \nz\n\" style=\"fill:#8e0152;fill-opacity:0.4;stroke:#8e0152;stroke-opacity:0.4;\"/>\n   </g>\n  </g>\n </g>\n <defs>\n  <clipPath id=\"pb88db97bd4\">\n   <rect height=\"864\" width=\"864\" x=\"7.2\" y=\"7.2\"/>\n  </clipPath>\n </defs>\n</svg>\n",
      "image/png": "[encoded data removed]"
     },
     "metadata": {}
    },
    {
     "output_type": "stream",
     "name": "stdout",
     "text": [
      "time: 620 ms\n"
     ]
    }
   ],
   "source": [
    "from src.utils import plot_contributions\n",
    "c = df.contributions.iloc[-1]\n",
    "plot_contributions(c)\n",
    "plt.show()\n"
   ]
  },
  {
   "cell_type": "code",
   "execution_count": 8,
   "metadata": {},
   "outputs": [
    {
     "output_type": "stream",
     "name": "stderr",
     "text": [
      "100%|██████████| 1000/1000 [15:13<00:00,  1.09it/s]\n",
      "100%|██████████| 1000/1000 [00:16<00:00, 61.69it/s]time: 16min 22s\n",
      "\n"
     ]
    }
   ],
   "source": [
    "from src.utils import create_video_snap\n",
    "\n",
    "create_video_snap(df.contributions.iloc[1:])\n"
   ]
  },
  {
   "cell_type": "code",
   "execution_count": null,
   "metadata": {},
   "outputs": [],
   "source": []
  }
 ],
 "metadata": {
  "kernelspec": {
   "display_name": "Python 3",
   "language": "python",
   "name": "python3"
  },
  "language_info": {
   "codemirror_mode": {
    "name": "ipython",
    "version": 3
   },
   "file_extension": ".py",
   "mimetype": "text/x-python",
   "name": "python",
   "nbconvert_exporter": "python",
   "pygments_lexer": "ipython3",
   "version": "3.7.6-final"
  }
 },
 "nbformat": 4,
 "nbformat_minor": 4
}